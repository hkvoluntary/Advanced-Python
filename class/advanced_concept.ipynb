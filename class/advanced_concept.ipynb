{
 "cells": [
  {
   "cell_type": "code",
   "execution_count": 47,
   "metadata": {},
   "outputs": [
    {
     "data": {
      "text/plain": [
       "4"
      ]
     },
     "execution_count": 47,
     "metadata": {},
     "output_type": "execute_result"
    }
   ],
   "source": [
    "f = lambda n: n**2\n",
    "f(5)\n",
    "f(2)\n"
   ]
  },
  {
   "cell_type": "code",
   "execution_count": 48,
   "metadata": {},
   "outputs": [
    {
     "data": {
      "text/plain": [
       "7"
      ]
     },
     "execution_count": 48,
     "metadata": {},
     "output_type": "execute_result"
    }
   ],
   "source": [
    "# conventional function definition:\n",
    "def sum(x,y):\n",
    "    return x + y\n",
    "sum(3,4)\n"
   ]
  },
  {
   "cell_type": "code",
   "execution_count": 49,
   "metadata": {},
   "outputs": [
    {
     "data": {
      "text/plain": [
       "7"
      ]
     },
     "execution_count": 49,
     "metadata": {},
     "output_type": "execute_result"
    }
   ],
   "source": [
    "# lambda function returns the sum of its two arguments:\n",
    "sum = lambda x, y : x + y\n",
    "sum(3,4)\n"
   ]
  },
  {
   "cell_type": "code",
   "execution_count": 50,
   "metadata": {},
   "outputs": [
    {
     "name": "stdout",
     "output_type": "stream",
     "text": [
      "<class 'function'>\n"
     ]
    },
    {
     "data": {
      "text/plain": [
       "<function __main__.<lambda>(x, y)>"
      ]
     },
     "execution_count": 50,
     "metadata": {},
     "output_type": "execute_result"
    }
   ],
   "source": [
    "add = lambda x, y: x + y\n",
    "print(type(add))\n",
    "add"
   ]
  },
  {
   "cell_type": "code",
   "execution_count": 51,
   "metadata": {},
   "outputs": [
    {
     "name": "stdout",
     "output_type": "stream",
     "text": [
      "<class 'function'>\n"
     ]
    },
    {
     "data": {
      "text/plain": [
       "<function __main__.add(x, y)>"
      ]
     },
     "execution_count": 51,
     "metadata": {},
     "output_type": "execute_result"
    }
   ],
   "source": [
    "def add(x, y): return x + y\n",
    "print(type(add))\n",
    "add"
   ]
  },
  {
   "cell_type": "markdown",
   "metadata": {},
   "source": [
    "filter"
   ]
  },
  {
   "cell_type": "code",
   "execution_count": 52,
   "metadata": {},
   "outputs": [
    {
     "name": "stdout",
     "output_type": "stream",
     "text": [
      "[2, 4, 6]\n"
     ]
    }
   ],
   "source": [
    "def even(n):\n",
    "    return n % 2 == 0\n",
    "\n",
    "a = [1, 2, 3, 4, 5, 6]\n",
    "b = filter(even, a)\n",
    "# Convert filter object to a list\n",
    "print(list(b))\n"
   ]
  },
  {
   "cell_type": "code",
   "execution_count": 53,
   "metadata": {},
   "outputs": [
    {
     "name": "stdout",
     "output_type": "stream",
     "text": [
      "[2, 4, 6]\n"
     ]
    }
   ],
   "source": [
    "a = [1, 2, 3, 4, 5, 6]\n",
    "b = filter(lambda x: x % 2 == 0, a)\n",
    "print(list(b))\n"
   ]
  },
  {
   "cell_type": "code",
   "execution_count": 54,
   "metadata": {},
   "outputs": [
    {
     "name": "stdout",
     "output_type": "stream",
     "text": [
      "18\n",
      "24\n",
      "32\n"
     ]
    }
   ],
   "source": [
    "ages = [5, 12, 17, 18, 24, 32]\n",
    "\n",
    "def myFunc(x):\n",
    "  if x < 18:\n",
    "    return False\n",
    "  else:\n",
    "    return True\n",
    "\n",
    "adults = filter(myFunc, ages)\n",
    "\n",
    "for x in adults:\n",
    "  print(x) \n"
   ]
  },
  {
   "cell_type": "code",
   "execution_count": 55,
   "metadata": {},
   "outputs": [
    {
     "name": "stdout",
     "output_type": "stream",
     "text": [
      "['Ashley', 'Olly']\n"
     ]
    }
   ],
   "source": [
    "creature_names = ['Sammy', 'Ashley', 'Jo', 'Olly', 'Jackie', 'Charlie']\n",
    "\n",
    "def names_vowels(x):\n",
    "  return x[0].lower() in 'aeiou'\n",
    "\n",
    "filtered_names = filter(names_vowels, creature_names)\n",
    "\n",
    "print(list(filtered_names))"
   ]
  },
  {
   "cell_type": "code",
   "execution_count": 56,
   "metadata": {},
   "outputs": [
    {
     "name": "stdout",
     "output_type": "stream",
     "text": [
      "['Ashley', 'Olly']\n"
     ]
    }
   ],
   "source": [
    "print(list(filter(lambda x: x[0].lower() in 'aeiou', creature_names)))\n"
   ]
  },
  {
   "cell_type": "markdown",
   "metadata": {},
   "source": [
    "map"
   ]
  },
  {
   "cell_type": "code",
   "execution_count": 57,
   "metadata": {},
   "outputs": [
    {
     "data": {
      "text/plain": [
       "[1, 4, 9, 16, 25]"
      ]
     },
     "execution_count": 57,
     "metadata": {},
     "output_type": "execute_result"
    }
   ],
   "source": [
    "def square(number):\n",
    "    return number ** 2\n",
    "\n",
    "numbers = [1, 2, 3, 4, 5]\n",
    "\n",
    "squared = map(square, numbers)\n",
    "\n",
    "list(squared)\n"
   ]
  },
  {
   "cell_type": "code",
   "execution_count": 58,
   "metadata": {},
   "outputs": [
    {
     "name": "stdout",
     "output_type": "stream",
     "text": [
      "[1, 4, 9, 16, 25]\n"
     ]
    }
   ],
   "source": [
    "numbers = [1, 2, 3, 4, 5]\n",
    "squared = []\n",
    "\n",
    "for num in numbers:\n",
    "    squared.append(num ** 2)\n",
    "\n",
    "print(squared)\n"
   ]
  },
  {
   "cell_type": "code",
   "execution_count": 59,
   "metadata": {},
   "outputs": [
    {
     "name": "stdout",
     "output_type": "stream",
     "text": [
      "[5, 6, 6]\n"
     ]
    }
   ],
   "source": [
    "def length(a):\n",
    "  return len(a)\n",
    "x  = list(map(length, (\"apple\",\"orange\",\"banana\")))\n",
    "print(x)"
   ]
  },
  {
   "cell_type": "code",
   "execution_count": 60,
   "metadata": {},
   "outputs": [
    {
     "data": {
      "text/plain": [
       "['appleorange', 'bananalemon', 'cherrypineapple']"
      ]
     },
     "execution_count": 60,
     "metadata": {},
     "output_type": "execute_result"
    }
   ],
   "source": [
    "def myfunc(a, b):\n",
    "  return a + b\n",
    "\n",
    "x = map(myfunc, ('apple', 'banana', 'cherry'), ('orange', 'lemon', 'pineapple')) \n",
    "list(x)"
   ]
  },
  {
   "cell_type": "code",
   "execution_count": 61,
   "metadata": {},
   "outputs": [
    {
     "name": "stdout",
     "output_type": "stream",
     "text": [
      "[2, 4, 6]\n"
     ]
    }
   ],
   "source": [
    "def sum(a,b):\n",
    "  return a+b\n",
    "x = list(map(sum,[1,2,3],[1,2,3]))\n",
    "print(x)"
   ]
  },
  {
   "cell_type": "code",
   "execution_count": 62,
   "metadata": {},
   "outputs": [
    {
     "name": "stdout",
     "output_type": "stream",
     "text": [
      "Using map function: [2, 4, 6, 8, 10, 12]\n"
     ]
    }
   ],
   "source": [
    "def double(value):\n",
    "  return 2*value\n",
    "a_list = [1 , 2, 3 , 4, 5 , 6]\n",
    "map_double_list = list(map(double , a_list))\n",
    "print(f'Using map function: {map_double_list}')"
   ]
  },
  {
   "cell_type": "code",
   "execution_count": 63,
   "metadata": {},
   "outputs": [
    {
     "name": "stdout",
     "output_type": "stream",
     "text": [
      "Multiplying 2 to every element: [2, 4, 6, 8, 10, 12]\n"
     ]
    }
   ],
   "source": [
    "map_lambda_list = list(map(lambda value: 2*value , a_list))\n",
    "print(f'Multiplying 2 to every element: {map_lambda_list}')"
   ]
  },
  {
   "cell_type": "code",
   "execution_count": 64,
   "metadata": {},
   "outputs": [
    {
     "name": "stdout",
     "output_type": "stream",
     "text": [
      "['a', 'b', 'c', 'd', 'e', 'f', 'h']\n",
      "['h', 'f', 'e', 'd', 'c', 'b', 'a']\n"
     ]
    }
   ],
   "source": [
    "a = (\"h\", \"b\", \"a\", \"c\", \"f\", \"d\", \"e\")\n",
    "x = sorted(a)\n",
    "print(x)\n",
    "\n",
    "a = (\"h\", \"b\", \"a\", \"c\", \"f\", \"d\", \"e\")\n",
    "x = sorted(a, reverse=True)\n",
    "print(x)\n",
    "\n"
   ]
  },
  {
   "cell_type": "code",
   "execution_count": 65,
   "metadata": {},
   "outputs": [
    {
     "name": "stdout",
     "output_type": "stream",
     "text": [
      "['Jane', 'Sally', 'Jenifer']\n",
      "[11, 12, 5, 3, 17, 2, 1]\n"
     ]
    }
   ],
   "source": [
    "a = (\"Jenifer\", \"Sally\", \"Jane\")\n",
    "x = sorted(a, key=len)\n",
    "print(x)\n",
    "\n",
    "def myfunc(n):\n",
    "  return abs(10-n)\n",
    "\n",
    "a = (5, 3, 1, 11, 2, 12, 17)\n",
    "x = sorted(a, key=myfunc)\n",
    "print(x)\n"
   ]
  },
  {
   "cell_type": "code",
   "execution_count": 66,
   "metadata": {},
   "outputs": [
    {
     "name": "stdout",
     "output_type": "stream",
     "text": [
      "[{'name': 'Eve', 'score': 78}, {'name': 'Alice', 'score': 85}, {'name': 'Bob', 'score': 91}]\n"
     ]
    }
   ],
   "source": [
    "a = [\n",
    "    {\"name\": \"Alice\", \"score\": 85},\n",
    "    {\"name\": \"Bob\", \"score\": 91},\n",
    "    {\"name\": \"Eve\", \"score\": 78}\n",
    "]\n",
    "\n",
    "# Use sorted() to sort the list 'a' based on the 'score' key\n",
    "# sorted() returns a new list with dictionaries sorted by the 'score'\n",
    "b = sorted(a, key=lambda x: x['score'])\n",
    "print(b)\n"
   ]
  },
  {
   "cell_type": "markdown",
   "metadata": {},
   "source": [
    "sort() Method: In this example , below code takes a list of numbers and sorts it directly, changing the order of the elements in the original list. It then prints the sorted list ."
   ]
  },
  {
   "cell_type": "code",
   "execution_count": 67,
   "metadata": {},
   "outputs": [
    {
     "name": "stdout",
     "output_type": "stream",
     "text": [
      "[1, 3, 14, 2, 9]\n",
      "None\n",
      "[1, 2, 3, 9, 14]\n"
     ]
    }
   ],
   "source": [
    "numbers = [1, 3, 14, 2, 9]\n",
    "print(numbers)\n",
    "print(numbers.sort())  # None\n",
    "print(numbers)           # [1, 2, 3, 9, 14]\n"
   ]
  },
  {
   "cell_type": "markdown",
   "metadata": {},
   "source": [
    "sorted() Method: In this example, below code uses the sorted list by arranging its elements in order. After that, it prints the original list to prove that the order of the elements in the original list hasn’t changed.\n"
   ]
  },
  {
   "cell_type": "code",
   "execution_count": 68,
   "metadata": {},
   "outputs": [
    {
     "name": "stdout",
     "output_type": "stream",
     "text": [
      "[1, 2, 3, 9, 14]\n",
      "[1, 3, 14, 2, 9]\n"
     ]
    }
   ],
   "source": [
    "numbers = [1, 3, 14, 2, 9]\n",
    "print(sorted(numbers)) # [1, 2, 3, 9, 14]\n",
    "print(numbers)"
   ]
  },
  {
   "cell_type": "code",
   "execution_count": 69,
   "metadata": {},
   "outputs": [
    {
     "name": "stdout",
     "output_type": "stream",
     "text": [
      "Sorted list:\n",
      "[1, 2, 3, 4, 5]\n",
      "\n",
      "Original list after sorting:\n",
      "[1, 2, 3, 4, 5]\n"
     ]
    }
   ],
   "source": [
    "L = [1, 5, 4, 2, 3]\n",
    "\n",
    "# Sorting the list in-place using sort()\n",
    "L.sort()\n",
    "\n",
    "# Print the sorted list\n",
    "print(\"Sorted list:\")\n",
    "print(L)\n",
    "\n",
    "# Print the original list after sorting\n",
    "print(\"\\nOriginal list after sorting:\")\n",
    "print(L)\n"
   ]
  },
  {
   "cell_type": "code",
   "execution_count": 70,
   "metadata": {},
   "outputs": [
    {
     "name": "stdout",
     "output_type": "stream",
     "text": [
      "Sorted list:\n",
      "[1, 2, 3, 4, 5]\n",
      "\n",
      "Original list after sorting:\n",
      "[1, 5, 4, 2, 3]\n"
     ]
    }
   ],
   "source": [
    "L = [1, 5, 4, 2, 3]\n",
    " \n",
    "#Print the sorted list\n",
    "print(\"Sorted list:\")\n",
    "print(sorted(L))\n",
    " \n",
    "#Print the original list\n",
    "print(\"\\nOriginal list after sorting:\")\n",
    "print(L)\n"
   ]
  },
  {
   "cell_type": "markdown",
   "metadata": {},
   "source": [
    "Sorting works on dictionaries and their keys/values/items"
   ]
  },
  {
   "cell_type": "code",
   "execution_count": null,
   "metadata": {},
   "outputs": [],
   "source": [
    "# dict\n",
    "people = {3: \"Jim\", 2: \"Jack\", 4: \"Jane\", 1: \"Jill\"}\n",
    "print(people)\n",
    "print(sorted(people)) # use key to sort\n",
    "print(people)\n",
    "print(sorted(people.keys()))\n",
    "print(sorted(people.values()))\n",
    "print(people)\n",
    "print(sorted(people.items()))"
   ]
  },
  {
   "cell_type": "code",
   "execution_count": null,
   "metadata": {},
   "outputs": [],
   "source": [
    "# sort them by the second name using lambda\n",
    "name_list = ['Zen Jack', 'Luigi Austin', 'Ben Benson', 'John Ann']\n",
    "print(\"Original list\", name_list) # Original list ['Zen Jack', 'Luigi Austin', 'Ben Benson', 'John Ann']\n",
    "\n",
    "name_list.sort(key=lambda name: name.split()[1])\n",
    "print(\"Sorted name list\", name_list) # Sorted name list ['John Ann', 'Luigi Austin', 'Ben Benson', 'Zen Jack']"
   ]
  },
  {
   "cell_type": "code",
   "execution_count": null,
   "metadata": {},
   "outputs": [],
   "source": [
    "name_list = ['Zen Jack', 'Luigi Austin', 'Ben Benson', 'John Ann']\n",
    "print(\"Original list\", name_list) # Original list ['Zen Jack', 'Luigi Austin', 'Ben Benson', 'John Ann']\n",
    "\n",
    "def sort_by_second_name(name):\n",
    "    return name.split()[1]\n",
    "\n",
    "name_list.sort(key=sort_by_second_name)\n",
    "print(\"Sorted name list\", name_list) # Sorted name list ['John Ann', 'Luigi Austin', 'Ben Benson', 'Zen Jack']\n"
   ]
  },
  {
   "cell_type": "markdown",
   "metadata": {},
   "source": [
    "Example for sorting a list of dictionaries\n"
   ]
  },
  {
   "cell_type": "code",
   "execution_count": 71,
   "metadata": {},
   "outputs": [
    {
     "name": "stdout",
     "output_type": "stream",
     "text": [
      "Original list: [{'car': 'Ford', 'year': 2005}, {'car': 'Mitsubishi', 'year': 2000}, {'car': 'BMW', 'year': 2019}, {'car': 'VW', 'year': 2011}]\n",
      "\n",
      "Sorted by 'car': [{'car': 'BMW', 'year': 2019}, {'car': 'Ford', 'year': 2005}, {'car': 'Mitsubishi', 'year': 2000}, {'car': 'VW', 'year': 2011}]\n"
     ]
    }
   ],
   "source": [
    "# A function that returns the 'car' value:\n",
    "def myFunc(e):\n",
    "  return e['car']\n",
    "\n",
    "cars = [\n",
    "  {'car': 'Ford', 'year': 2005},\n",
    "  {'car': 'Mitsubishi', 'year': 2000},\n",
    "  {'car': 'BMW', 'year': 2019},\n",
    "  {'car': 'VW', 'year': 2011}\n",
    "]\n",
    "\n",
    "print(\"Original list:\", cars)\n",
    "cars.sort(key=myFunc)\n",
    "print(\"\\nSorted by 'car':\", cars)"
   ]
  },
  {
   "cell_type": "code",
   "execution_count": 72,
   "metadata": {},
   "outputs": [
    {
     "name": "stdout",
     "output_type": "stream",
     "text": [
      "Original list: [{'car': 'Ford', 'year': 2005}, {'car': 'Mitsubishi', 'year': 2000}, {'car': 'BMW', 'year': 2019}, {'car': 'VW', 'year': 2011}]\n",
      "\n",
      "Sorted by 'car': [{'car': 'BMW', 'year': 2019}, {'car': 'Ford', 'year': 2005}, {'car': 'Mitsubishi', 'year': 2000}, {'car': 'VW', 'year': 2011}]\n"
     ]
    }
   ],
   "source": [
    "cars = [\n",
    "  {'car': 'Ford', 'year': 2005},\n",
    "  {'car': 'Mitsubishi', 'year': 2000},\n",
    "  {'car': 'BMW', 'year': 2019},\n",
    "  {'car': 'VW', 'year': 2011}\n",
    "]\n",
    "print(\"Original list:\", cars)\n",
    "\n",
    "# Sort using lambda instead of myFunc\n",
    "cars.sort(key=lambda x: x['car'])\n",
    "\n",
    "print(\"\\nSorted by 'car':\", cars)"
   ]
  },
  {
   "cell_type": "markdown",
   "metadata": {},
   "source": [
    "Handling Exceptions"
   ]
  },
  {
   "cell_type": "code",
   "execution_count": 42,
   "metadata": {},
   "outputs": [
    {
     "name": "stdout",
     "output_type": "stream",
     "text": [
      "An exception has occurred!\n"
     ]
    }
   ],
   "source": [
    "try:\n",
    "   print(x1)\n",
    "except:\n",
    "   print(\"An exception has occurred!\")"
   ]
  },
  {
   "cell_type": "code",
   "execution_count": 43,
   "metadata": {},
   "outputs": [
    {
     "name": "stdout",
     "output_type": "stream",
     "text": [
      "unsupported operand type(s) for /: 'int' and 'str'\n"
     ]
    }
   ],
   "source": [
    "a =\"a\"\n",
    "try:\n",
    "   result = 1/a\n",
    "except Exception as err: # Built-in Python Exceptions - raised when you divide a value or variable with zero.\n",
    "   print(err)\n",
    "else:\n",
    "   print(f\"Your answer is {result}\")"
   ]
  },
  {
   "cell_type": "code",
   "execution_count": 44,
   "metadata": {},
   "outputs": [
    {
     "name": "stdout",
     "output_type": "stream",
     "text": [
      "list index out of range\n",
      "Your answer is  9\n"
     ]
    }
   ],
   "source": [
    "x = [5,8,9,13]\n",
    "\n",
    "def find_nth_value(x,n):\n",
    "    try:\n",
    "        result = x[n]\n",
    "    except IndexError as err: # Built-in Python Exceptions - occurs when the index of a sequence is out of range\n",
    "        print(err)\n",
    "    else:\n",
    "        print(\"Your answer is \", result)\n",
    "\n",
    "# Testing\n",
    "find_nth_value(x,6)\n",
    "find_nth_value(x,2)"
   ]
  },
  {
   "cell_type": "code",
   "execution_count": 45,
   "metadata": {},
   "outputs": [
    {
     "name": "stdout",
     "output_type": "stream",
     "text": [
      "[Errno 2] No such file or directory: 'data.csv'\n",
      "Explanation: We cannot load the 'data.csv' file\n"
     ]
    }
   ],
   "source": [
    "try:\n",
    "   with open('data.csv') as file:\n",
    "       read_data = file.read()\n",
    "except FileNotFoundError as fnf_error: ## Built-in Python Exceptions\n",
    "   print(fnf_error)\n",
    "   print(\"Explanation: We cannot load the 'data.csv' file\")"
   ]
  },
  {
   "cell_type": "code",
   "execution_count": 46,
   "metadata": {},
   "outputs": [
    {
     "name": "stdout",
     "output_type": "stream",
     "text": [
      "Please change 'y' argument to non-zero value\n",
      "Python programming is fun !\n",
      "Your answer is 0.75\n",
      "Python programming is fun !\n",
      "Something went wrong\n",
      "Python programming is fun !\n"
     ]
    }
   ],
   "source": [
    "def divide(x,y):\n",
    "    try:\n",
    "        result = x/y\n",
    "    except ZeroDivisionError:\n",
    "        print(\"Please change 'y' argument to non-zero value\")\n",
    "    except:\n",
    "        print(\"Something went wrong\")\n",
    "    else:\n",
    "        print(f\"Your answer is {result}\")\n",
    "    finally: # No matter what the outcome is, it will always run 'finally'\n",
    "        print(\"Python programming is fun !\")\n",
    "\n",
    "divide(1,0)\n",
    "divide(3,4)\n",
    "divide(1,'g')"
   ]
  }
 ],
 "metadata": {
  "kernelspec": {
   "display_name": "Python 3",
   "language": "python",
   "name": "python3"
  },
  "language_info": {
   "codemirror_mode": {
    "name": "ipython",
    "version": 3
   },
   "file_extension": ".py",
   "mimetype": "text/x-python",
   "name": "python",
   "nbconvert_exporter": "python",
   "pygments_lexer": "ipython3",
   "version": "3.11.3"
  }
 },
 "nbformat": 4,
 "nbformat_minor": 2
}
