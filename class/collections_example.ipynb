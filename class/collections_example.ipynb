{
 "cells": [
  {
   "cell_type": "code",
   "execution_count": null,
   "metadata": {},
   "outputs": [],
   "source": [
    "from collections import Counter\n",
    "\n",
    "a=\"I love python programming !\"\n",
    "result=Counter(a)\n",
    "print(result)\n"
   ]
  },
  {
   "cell_type": "code",
   "execution_count": null,
   "metadata": {},
   "outputs": [],
   "source": [
    "from collections import Counter\n",
    "a=[\"apple\",\"mango\",\"cherry\",\"apple\",\"mango\",\"mango\"]\n",
    "result=Counter(a)\n",
    "print (result)\n",
    "print(result.values())\n"
   ]
  },
  {
   "cell_type": "code",
   "execution_count": null,
   "metadata": {},
   "outputs": [],
   "source": [
    "from collections import Counter\n",
    "a=[\"apple\",\"mango\",\"cherry\",\"apple\",\"mango\",\"mango\"]\n",
    "result=Counter(a)\n",
    "print(type(result))\n",
    "print(result.most_common(1))\n",
    "print(result.most_common(2))"
   ]
  },
  {
   "cell_type": "code",
   "execution_count": null,
   "metadata": {},
   "outputs": [],
   "source": [
    "from collections import namedtuple\n",
    "\n",
    "person=namedtuple(\"person\",[\"name\",\"place\",\"sex\",\"age\"])\n",
    "id=person(\"John\",\"Hong Kong\",\"Male\",\"21\")\n",
    "print(id[1])\n",
    "print(id[3])\n",
    "print(id.place)\n",
    "print(id.age)\n"
   ]
  },
  {
   "cell_type": "code",
   "execution_count": null,
   "metadata": {},
   "outputs": [],
   "source": [
    "Fish = namedtuple(\"Fish\", [\"name\", \"species\", \"tank\"])\n",
    "sammy = Fish(\"Sammy\", \"shark\", \"tank-a\")\n",
    "print(sammy)\n",
    "print(sammy.species)\n",
    "print(sammy[1])\n",
    "print(sammy._asdict())\n"
   ]
  },
  {
   "cell_type": "code",
   "execution_count": null,
   "metadata": {},
   "outputs": [],
   "source": [
    "from collections import defaultdict\n",
    "\n",
    "my_defaultdict = defaultdict(list)\n",
    "\n",
    "print(my_defaultdict[\"missing\"])\n",
    "\n",
    "my_regular_dict = {}\n",
    "\n",
    "my_regular_dict[\"missing\"]"
   ]
  },
  {
   "cell_type": "code",
   "execution_count": null,
   "metadata": {},
   "outputs": [],
   "source": [
    "from collections import defaultdict\n",
    "d=defaultdict(int)\n",
    "d['John']=\"90\"\n",
    "d['Anna']=80\n",
    "d['Peter']=95\n",
    "print(d)\n",
    "print(d['John'])\n",
    "print(d['Tom'])"
   ]
  },
  {
   "cell_type": "code",
   "execution_count": 8,
   "metadata": {},
   "outputs": [],
   "source": [
    "from collections import defaultdict\n",
    "\n",
    "fish_inventory = [\n",
    "    (\"Sammy\", \"shark\", \"tank-a\"),\n",
    "    (\"Jamie\", \"cuttlefish\", \"tank-b\"),\n",
    "    (\"Mary\", \"squid\", \"tank-a\"),\n",
    "]"
   ]
  },
  {
   "cell_type": "code",
   "execution_count": null,
   "metadata": {},
   "outputs": [],
   "source": [
    "fish_names_by_tank = defaultdict(list)\n",
    "for name, species, tank in fish_inventory:\n",
    "    fish_names_by_tank[tank].append(name)\n",
    "\n",
    "print(fish_names_by_tank)"
   ]
  },
  {
   "cell_type": "code",
   "execution_count": null,
   "metadata": {},
   "outputs": [],
   "source": [
    "fish_names_by_tank2 = {}\n",
    "for name, species, tank in fish_inventory:\n",
    "    if tank not in fish_names_by_tank2: \n",
    "      # Using just a regular dictionary means that the for loop body \n",
    "      # always has to check for the existence of the given tank in fish_names_by_tank\n",
    "      fish_names_by_tank2[tank] = []\n",
    "    fish_names_by_tank2[tank].append(name)\n",
    "print(fish_names_by_tank2)"
   ]
  },
  {
   "cell_type": "code",
   "execution_count": null,
   "metadata": {},
   "outputs": [],
   "source": [
    "from collections import OrderedDict\n",
    "d=OrderedDict()\n",
    "d['John']=100\n",
    "d['Anna']=80\n",
    "d['Peter']=95\n",
    "d['Tom'] = 70\n",
    "print(d)\n",
    "print(d['John'])\n",
    "print(d['Tom'])\n",
    "print(d.keys())\n",
    "print(d.values())"
   ]
  }
 ],
 "metadata": {
  "kernelspec": {
   "display_name": "Python 3",
   "language": "python",
   "name": "python3"
  },
  "language_info": {
   "codemirror_mode": {
    "name": "ipython",
    "version": 3
   },
   "file_extension": ".py",
   "mimetype": "text/x-python",
   "name": "python",
   "nbconvert_exporter": "python",
   "pygments_lexer": "ipython3",
   "version": "3.11.3"
  }
 },
 "nbformat": 4,
 "nbformat_minor": 2
}
