{
 "cells": [
  {
   "cell_type": "code",
   "execution_count": null,
   "metadata": {},
   "outputs": [],
   "source": [
    "# The requests library in Python is a powerful tool for making HTTP requests. \n",
    "# It simplifies the process of sending requests to web servers and handling responses.\n",
    "import requests\n",
    "\n",
    "data_url=\"https://static.webucator.com/media/public/documents/hrleaders.json\"\n",
    "\n",
    "# Verification Disabled: Disable SSL verification as a last resort:\n",
    "r = requests.get(data_url, verify=False)\n",
    "records = r.json()\n",
    "\n",
    "for i, record in enumerate(records, 1):\n",
    "    player = record['Player']\n",
    "    hrs = record['HR']\n",
    "    year = record['Year']\n",
    "    print(f'{i}. {player} hit {hrs} home runs in {year}.')"
   ]
  }
 ],
 "metadata": {
  "kernelspec": {
   "display_name": ".venv",
   "language": "python",
   "name": "python3"
  },
  "language_info": {
   "codemirror_mode": {
    "name": "ipython",
    "version": 3
   },
   "file_extension": ".py",
   "mimetype": "text/x-python",
   "name": "python",
   "nbconvert_exporter": "python",
   "pygments_lexer": "ipython3",
   "version": "3.11.3"
  }
 },
 "nbformat": 4,
 "nbformat_minor": 2
}
