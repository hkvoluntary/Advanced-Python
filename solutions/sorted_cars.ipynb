{
 "cells": [
  {
   "cell_type": "code",
   "execution_count": 2,
   "metadata": {},
   "outputs": [
    {
     "name": "stdout",
     "output_type": "stream",
     "text": [
      "Sorted by 'car' name: [{'car': 'BMW', 'year': 2019}, {'car': 'Ford', 'year': 2005}, {'car': 'Mitsubishi', 'year': 2000}, {'car': 'VW', 'year': 2011}]\n"
     ]
    }
   ],
   "source": [
    "# Function to sort the cars by the 'car' name (alphabetically)\n",
    "def sort_cars_by_name(cars):\n",
    "    # Sort the cars by the car brand name using a lambda function\n",
    "    cars.sort(key=lambda x: x['car'])\n",
    "    return cars\n",
    "\n",
    "# Test data\n",
    "cars = [\n",
    "    {'car': 'Ford', 'year': 2005},\n",
    "    {'car': 'Mitsubishi', 'year': 2000},\n",
    "    {'car': 'BMW', 'year': 2019},\n",
    "    {'car': 'VW', 'year': 2011}\n",
    "]\n",
    "\n",
    "# Example: Sort by 'car' name (alphabetically)\n",
    "sorted_by_name = sort_cars_by_name(cars.copy())\n",
    "print(\"Sorted by 'car' name:\", sorted_by_name)\n",
    "\n"
   ]
  }
 ],
 "metadata": {
  "kernelspec": {
   "display_name": "Python 3",
   "language": "python",
   "name": "python3"
  },
  "language_info": {
   "codemirror_mode": {
    "name": "ipython",
    "version": 3
   },
   "file_extension": ".py",
   "mimetype": "text/x-python",
   "name": "python",
   "nbconvert_exporter": "python",
   "pygments_lexer": "ipython3",
   "version": "3.11.3"
  }
 },
 "nbformat": 4,
 "nbformat_minor": 2
}
