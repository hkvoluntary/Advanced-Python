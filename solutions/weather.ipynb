{
  "nbformat": 4,
  "nbformat_minor": 0,
  "metadata": {
    "colab": {
      "provenance": []
    },
    "kernelspec": {
      "name": "python3",
      "display_name": "Python 3"
    },
    "language_info": {
      "name": "python"
    }
  },
  "cells": [
    {
      "cell_type": "code",
      "execution_count": 4,
      "metadata": {
        "colab": {
          "base_uri": "https://localhost:8080/"
        },
        "id": "u_r0Wga9KvO3",
        "outputId": "3599b739-9d46-4b94-bae7-783a72e80ec6"
      },
      "outputs": [
        {
          "output_type": "stream",
          "name": "stdout",
          "text": [
            "https://api.openweathermap.org/data/2.5/forecast/?q=Hong+Kong&units=metric&APPID=abca198b092b0295697beb48914a442c\n",
            "High on Monday, February 10, 2025 at 03 PM in Hong Kong: 16.74 celsius.\n",
            "High on Monday, February 10, 2025 at 06 PM in Hong Kong: 16.81 celsius.\n",
            "High on Monday, February 10, 2025 at 09 PM in Hong Kong: 16.42 celsius.\n",
            "High on Tuesday, February 11, 2025 at 12 AM in Hong Kong: 16.33 celsius.\n",
            "High on Tuesday, February 11, 2025 at 03 AM in Hong Kong: 17.27 celsius.\n",
            "High on Tuesday, February 11, 2025 at 06 AM in Hong Kong: 17.92 celsius.\n",
            "High on Tuesday, February 11, 2025 at 09 AM in Hong Kong: 18.27 celsius.\n",
            "High on Tuesday, February 11, 2025 at 12 PM in Hong Kong: 17.89 celsius.\n",
            "High on Tuesday, February 11, 2025 at 03 PM in Hong Kong: 18.11 celsius.\n",
            "High on Tuesday, February 11, 2025 at 06 PM in Hong Kong: 18.12 celsius.\n",
            "High on Tuesday, February 11, 2025 at 09 PM in Hong Kong: 17.83 celsius.\n",
            "High on Wednesday, February 12, 2025 at 12 AM in Hong Kong: 18.12 celsius.\n",
            "High on Wednesday, February 12, 2025 at 03 AM in Hong Kong: 18.81 celsius.\n",
            "High on Wednesday, February 12, 2025 at 06 AM in Hong Kong: 19.45 celsius.\n",
            "High on Wednesday, February 12, 2025 at 09 AM in Hong Kong: 19.22 celsius.\n",
            "High on Wednesday, February 12, 2025 at 12 PM in Hong Kong: 19.12 celsius.\n",
            "High on Wednesday, February 12, 2025 at 03 PM in Hong Kong: 18.97 celsius.\n",
            "High on Wednesday, February 12, 2025 at 06 PM in Hong Kong: 19 celsius.\n",
            "High on Wednesday, February 12, 2025 at 09 PM in Hong Kong: 19.21 celsius.\n",
            "High on Thursday, February 13, 2025 at 12 AM in Hong Kong: 18.19 celsius.\n",
            "High on Thursday, February 13, 2025 at 03 AM in Hong Kong: 18.27 celsius.\n",
            "High on Thursday, February 13, 2025 at 06 AM in Hong Kong: 18.71 celsius.\n",
            "High on Thursday, February 13, 2025 at 09 AM in Hong Kong: 18.19 celsius.\n",
            "High on Thursday, February 13, 2025 at 12 PM in Hong Kong: 17.53 celsius.\n",
            "High on Thursday, February 13, 2025 at 03 PM in Hong Kong: 17.4 celsius.\n",
            "High on Thursday, February 13, 2025 at 06 PM in Hong Kong: 17.05 celsius.\n",
            "High on Thursday, February 13, 2025 at 09 PM in Hong Kong: 16.81 celsius.\n",
            "High on Friday, February 14, 2025 at 12 AM in Hong Kong: 16.93 celsius.\n",
            "High on Friday, February 14, 2025 at 03 AM in Hong Kong: 18.27 celsius.\n",
            "High on Friday, February 14, 2025 at 06 AM in Hong Kong: 18.83 celsius.\n",
            "High on Friday, February 14, 2025 at 09 AM in Hong Kong: 18.44 celsius.\n",
            "High on Friday, February 14, 2025 at 12 PM in Hong Kong: 17.81 celsius.\n",
            "High on Friday, February 14, 2025 at 03 PM in Hong Kong: 18 celsius.\n",
            "High on Friday, February 14, 2025 at 06 PM in Hong Kong: 17.9 celsius.\n",
            "High on Friday, February 14, 2025 at 09 PM in Hong Kong: 17.89 celsius.\n",
            "High on Saturday, February 15, 2025 at 12 AM in Hong Kong: 18.09 celsius.\n",
            "High on Saturday, February 15, 2025 at 03 AM in Hong Kong: 19.67 celsius.\n",
            "High on Saturday, February 15, 2025 at 06 AM in Hong Kong: 20.44 celsius.\n",
            "High on Saturday, February 15, 2025 at 09 AM in Hong Kong: 20.05 celsius.\n",
            "High on Saturday, February 15, 2025 at 12 PM in Hong Kong: 19.31 celsius.\n"
          ]
        }
      ],
      "source": [
        "import requests\n",
        "from datetime import datetime\n",
        "\n",
        "API_KEY = 'abca198b092b0295697beb48914a442c'\n",
        "FEED = 'https://api.openweathermap.org/data/2.5/forecast/'\n",
        "\n",
        "\n",
        "def main():\n",
        "    city = 'Hong Kong'\n",
        "\n",
        "\n",
        "    params = {\n",
        "        'q': city ,\n",
        "        'units': 'metric',\n",
        "        'APPID': API_KEY\n",
        "    }\n",
        "\n",
        "    r = requests.get(FEED, params)\n",
        "    print(r.url) # prints the URL created using the params\n",
        "\n",
        "    weather = r.json()\n",
        "\n",
        "    fmt_in = '%Y-%m-%d %H:%M:%S'\n",
        "    fmt_out = '%A, %B %d, %Y at %I %p'\n",
        "    for item in weather['list']:\n",
        "        max_temp = item['main']['temp_max']\n",
        "        dt = item['dt_txt']\n",
        "        day_time = datetime.strptime(dt, fmt_in).strftime(fmt_out)\n",
        "        print(f'High on {day_time} in {city}: {max_temp} celsius.')\n",
        "\n",
        "main()"
      ]
    }
  ]
}